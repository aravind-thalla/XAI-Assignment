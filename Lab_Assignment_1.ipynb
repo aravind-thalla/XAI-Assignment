{
  "nbformat": 4,
  "nbformat_minor": 0,
  "metadata": {
    "colab": {
      "provenance": [],
      "include_colab_link": true
    },
    "kernelspec": {
      "name": "python3",
      "display_name": "Python 3"
    },
    "language_info": {
      "name": "python"
    }
  },
  "cells": [
    {
      "cell_type": "markdown",
      "metadata": {
        "id": "view-in-github",
        "colab_type": "text"
      },
      "source": [
        "<a href=\"https://colab.research.google.com/github/aravind-thalla/XAI-Assignment/blob/main/Lab_Assignment_1.ipynb\" target=\"_parent\"><img src=\"https://colab.research.google.com/assets/colab-badge.svg\" alt=\"Open In Colab\"/></a>"
      ]
    },
    {
      "cell_type": "code",
      "source": [
        "import numpy as np, pandas as pd\n",
        "from sklearn.linear_model import LinearRegression\n",
        "\n",
        "\n",
        "X = np.array([1, 3, 2, 1, 3]).reshape(-1, 1)\n",
        "y = np.array([80, 120, 95, 85, 130])\n",
        "\n",
        "\n",
        "model = LinearRegression().fit(X, y)\n",
        "baseline = y.mean()\n",
        "preds = model.predict(X)\n",
        "shap_vals = preds - baseline\n",
        "\n",
        "df = pd.DataFrame({\"Emails\": X.ravel(), \"Actual\": y, \"Pred\": preds,\n",
        "                   \"Baseline\": baseline, \"SHAP\": shap_vals,\n",
        "                   \"Note\": np.where(y > preds, \"Under\", \"Over\")})\n",
        "\n",
        "print(f\"y = {model.intercept_:.2f} + {model.coef_[0]:.2f}*Emails\")\n",
        "print(df)\n"
      ],
      "metadata": {
        "colab": {
          "base_uri": "https://localhost:8080/"
        },
        "id": "qv4Nj-CwS1n0",
        "outputId": "830e5eb7-b6d4-4a20-b947-f80a4ed0a969"
      },
      "execution_count": null,
      "outputs": [
        {
          "output_type": "stream",
          "name": "stdout",
          "text": [
            "y = 59.50 + 21.25*Emails\n",
            "   Emails  Actual    Pred  Baseline   SHAP   Note\n",
            "0       1      80   80.75     102.0 -21.25   Over\n",
            "1       3     120  123.25     102.0  21.25   Over\n",
            "2       2      95  102.00     102.0   0.00   Over\n",
            "3       1      85   80.75     102.0 -21.25  Under\n",
            "4       3     130  123.25     102.0  21.25  Under\n"
          ]
        }
      ]
    },
    {
      "cell_type": "markdown",
      "source": [
        "Problem 2"
      ],
      "metadata": {
        "id": "jBU_Eb-MTBTA"
      }
    },
    {
      "cell_type": "code",
      "source": [
        "import numpy as np, pandas as pd\n",
        "from sklearn.linear_model import LinearRegression\n",
        "\n",
        "# Data\n",
        "X = np.array([[200, 10],\n",
        "              [300, 15],\n",
        "              [250, 5],\n",
        "              [150, 10],\n",
        "              [100, 0]], dtype=float)\n",
        "y = np.array([1500, 2000, 1700, 1400, 1000], dtype=float)\n",
        "\n",
        "model = LinearRegression().fit(X, y)\n",
        "coef = model.coef_\n",
        "intercept = model.intercept_\n",
        "\n",
        "\n",
        "baseline = y.mean()\n",
        "\n",
        "\n",
        "preds = model.predict(X)\n",
        "total_shap = preds - baseline\n",
        "\n",
        "raw = (coef * X)\n",
        "raw_sum = raw.sum(axis=1)\n",
        "mask_zero = raw_sum == 0\n",
        "\n",
        "\n",
        "expanded_mask_zero = np.tile(~mask_zero[:, None], (1, raw.shape[1]))\n",
        "\n",
        "weights = np.where(expanded_mask_zero, raw / raw_sum[:, None],\n",
        "                   np.abs(raw) / np.abs(raw).sum(axis=1)[:, None])\n",
        "feat_shap = total_shap[:, None] * weights\n",
        "\n",
        "\n",
        "check = baseline + feat_shap.sum(axis=1)\n",
        "df = pd.DataFrame({\n",
        "    \"Ad_Spend\": X[:,0], \"Discount\": X[:,1], \"Actual\": y,\n",
        "    \"Predicted\": preds.round(2), \"Baseline\": round(baseline,2),\n",
        "    \"SHAP_Ad\": feat_shap[:,0].round(2), \"SHAP_Disc\": feat_shap[:,1].round(2),\n",
        "    \"Check\": check.round(2), \"Error\": (y - preds).round(2)\n",
        "})\n",
        "print(f\"Model: Revenue = {intercept:.3f} + {coef[0]:.3f}*Ad + {coef[1]:.3f}*Disc\")\n",
        "print(\"\\nBaseline (mean revenue):\", round(baseline,2))\n",
        "print(\"\\n\", df.to_string(index=False))\n",
        "\n",
        "print(\"\\nInterpretations:\")\n",
        "for i, r in df.iterrows():\n",
        "    ad_c = r.SHAP_Ad; d_c = r.SHAP_Disc\n",
        "    influence = (\"Ad spend ↑\" if ad_c>0 else \"Ad spend ↓\") + f\" ({ad_c})\"\n",
        "    influence += \" ; \" + ((\"Discount ↑\" if d_c>0 else \"Discount ↓\") + f\" ({d_c})\")\n",
        "    note = \"Under-pred\" if r.Error>0 else \"Over-pred\"\n",
        "    print(f\" Row {i+1}: {influence} → Pred={r.Predicted}, Actual={r.Actual} ({note}, err={r.Error})\")"
      ],
      "metadata": {
        "colab": {
          "base_uri": "https://localhost:8080/"
        },
        "id": "4_TiADw5TAzv",
        "outputId": "be5c6743-43b8-45f2-910a-1af43282bc16"
      },
      "execution_count": null,
      "outputs": [
        {
          "output_type": "stream",
          "name": "stdout",
          "text": [
            "Model: Revenue = 628.148 + 3.896*Ad + 14.074*Disc\n",
            "\n",
            "Baseline (mean revenue): 1520.0\n",
            "\n",
            "  Ad_Spend  Discount  Actual  Predicted  Baseline  SHAP_Ad  SHAP_Disc   Check  Error\n",
            "    200.0      10.0  1500.0    1548.15    1520.0    23.84       4.31 1548.15 -48.15\n",
            "    300.0      15.0  2000.0    2008.15    1520.0   413.47      74.68 2008.15  -8.15\n",
            "    250.0       5.0  1700.0    1672.59    1520.0   142.31      10.28 1672.59  27.41\n",
            "    150.0      10.0  1400.0    1353.33    1520.0  -134.32     -32.35 1353.33  46.67\n",
            "    100.0       0.0  1000.0    1017.78    1520.0  -502.22      -0.00 1017.78 -17.78\n",
            "\n",
            "Interpretations:\n",
            " Row 1: Ad spend ↑ (23.84) ; Discount ↑ (4.31) → Pred=1548.15, Actual=1500.0 (Over-pred, err=-48.15)\n",
            " Row 2: Ad spend ↑ (413.47) ; Discount ↑ (74.68) → Pred=2008.15, Actual=2000.0 (Over-pred, err=-8.15)\n",
            " Row 3: Ad spend ↑ (142.31) ; Discount ↑ (10.28) → Pred=1672.59, Actual=1700.0 (Under-pred, err=27.41)\n",
            " Row 4: Ad spend ↓ (-134.32) ; Discount ↓ (-32.35) → Pred=1353.33, Actual=1400.0 (Under-pred, err=46.67)\n",
            " Row 5: Ad spend ↓ (-502.22) ; Discount ↓ (-0.0) → Pred=1017.78, Actual=1000.0 (Over-pred, err=-17.78)\n"
          ]
        }
      ]
    },
    {
      "cell_type": "markdown",
      "source": [
        "Problem 3"
      ],
      "metadata": {
        "id": "tGNCfiyzT4W8"
      }
    },
    {
      "cell_type": "code",
      "source": [
        "import pandas as pd, numpy as np\n",
        "from sklearn.datasets import load_diabetes\n",
        "from sklearn.linear_model import LinearRegression\n",
        "from sklearn.model_selection import train_test_split\n",
        "\n",
        "data = load_diabetes()\n",
        "X, y = pd.DataFrame(data.data, columns=data.feature_names), pd.Series(data.target, name=\"progression\")\n",
        "X_train, X_test, y_train, y_test = train_test_split(X, y, random_state=42)\n",
        "\n",
        "model = LinearRegression().fit(X_train, y_train)\n",
        "coef, intercept = model.coef_, model.intercept_\n",
        "\n",
        "baseline = y_train.mean()\n",
        "\n",
        "mean_train = X_train.mean()\n",
        "shap_vals = (X_test - mean_train) * coef\n",
        "\n",
        "preds = model.predict(X_test)\n",
        "check = baseline + shap_vals.sum(axis=1)\n",
        "\n",
        "results = X_test.copy()\n",
        "results[\"Actual\"] = y_test.values\n",
        "results[\"Predicted\"] = preds.round(2)\n",
        "results[\"Baseline\"] = round(baseline, 2)\n",
        "for f in X.columns:\n",
        "    results[f\"SHAP_{f}\"] = shap_vals[f].round(2)\n",
        "results[\"Check\"] = check.round(2)\n",
        "results[\"Error\"] = (y_test - preds).round(2)\n",
        "\n",
        "pd.set_option(\"display.max_columns\", None)\n",
        "print(f\"Model: progression = {intercept:.3f} + Σ(coef_i * feature_i)\")\n",
        "print(\"Baseline:\", round(baseline, 2))\n",
        "print(results.head())\n",
        "\n",
        "\n",
        "for i, row in results.head(3).iterrows():\n",
        "    contribs = \", \".join([f\"{f}({row[f'SHAP_{f}']:+})\" for f in X.columns])\n",
        "    status = \"Overpredicted\" if row.Error < 0 else \"Underpredicted\"\n",
        "    print(f\"\\nPatient {i}: {status} by {abs(row.Error)} → {contribs}\")\n"
      ],
      "metadata": {
        "colab": {
          "base_uri": "https://localhost:8080/"
        },
        "id": "lfM-ScCWT6Nh",
        "outputId": "2015e2fd-5ee8-4068-c67d-c64cb84df9a9"
      },
      "execution_count": null,
      "outputs": [
        {
          "output_type": "stream",
          "name": "stdout",
          "text": [
            "Model: progression = 151.665 + Σ(coef_i * feature_i)\n",
            "Baseline: 154.34\n",
            "          age       sex       bmi        bp        s1        s2        s3  \\\n",
            "287  0.045341 -0.044642 -0.006206 -0.015999  0.125019  0.125198  0.019187   \n",
            "211  0.092564 -0.044642  0.036907  0.021872 -0.024960 -0.016658  0.000779   \n",
            "72   0.063504  0.050680 -0.004050 -0.012556  0.103003  0.048790  0.056003   \n",
            "321  0.096197 -0.044642  0.051996  0.079265  0.054845  0.036577 -0.076536   \n",
            "73   0.012648  0.050680 -0.020218 -0.002228  0.038334  0.053174 -0.006584   \n",
            "\n",
            "           s4        s5        s6  Actual  Predicted  Baseline  SHAP_age  \\\n",
            "287  0.034309  0.032432 -0.005220   219.0     137.95    154.34      2.12   \n",
            "211 -0.039493 -0.022517 -0.021788    70.0     182.53    154.34      4.37   \n",
            "72  -0.002592  0.084492 -0.017646   202.0     129.85    154.34      2.98   \n",
            "321  0.141322  0.098648  0.061054   230.0     292.56    154.34      4.54   \n",
            "73   0.034309 -0.005142 -0.009362   111.0     124.87    154.34      0.56   \n",
            "\n",
            "     SHAP_sex  SHAP_bmi  SHAP_bp  SHAP_s1  SHAP_s2  SHAP_s3  SHAP_s4  SHAP_s5  \\\n",
            "287     10.87     -4.54    -6.60  -114.32    63.61     2.31     9.01    21.36   \n",
            "211     10.87     18.40     7.85    23.44    -8.49     0.16   -10.88   -16.88   \n",
            "72     -12.20     -3.39    -5.29   -94.10    24.77     6.62    -0.93    57.58   \n",
            "321     10.87     26.42    29.75   -49.86    18.57    -8.88    37.85    67.43   \n",
            "73     -12.20    -11.99    -1.34   -34.70    27.00    -0.70     9.01    -4.79   \n",
            "\n",
            "     SHAP_s6   Check   Error  \n",
            "287    -0.22  137.95   81.05  \n",
            "211    -0.66  182.53 -112.53  \n",
            "72     -0.55  129.85   72.15  \n",
            "321     1.52  292.56  -62.56  \n",
            "73     -0.33  124.87  -13.87  \n",
            "\n",
            "Patient 287: Underpredicted by 81.05 → age(+2.12), sex(+10.87), bmi(-4.54), bp(-6.6), s1(-114.32), s2(+63.61), s3(+2.31), s4(+9.01), s5(+21.36), s6(-0.22)\n",
            "\n",
            "Patient 211: Overpredicted by 112.53 → age(+4.37), sex(+10.87), bmi(+18.4), bp(+7.85), s1(+23.44), s2(-8.49), s3(+0.16), s4(-10.88), s5(-16.88), s6(-0.66)\n",
            "\n",
            "Patient 72: Underpredicted by 72.15 → age(+2.98), sex(-12.2), bmi(-3.39), bp(-5.29), s1(-94.1), s2(+24.77), s3(+6.62), s4(-0.93), s5(+57.58), s6(-0.55)\n"
          ]
        }
      ]
    },
    {
      "cell_type": "markdown",
      "source": [
        "Problem 4"
      ],
      "metadata": {
        "id": "BWyotCALUU4Z"
      }
    },
    {
      "cell_type": "code",
      "source": [
        "import numpy as np\n",
        "import pandas as pd\n",
        "from sklearn.linear_model import LinearRegression\n",
        "import shap\n",
        "\n",
        "np.random.seed(0)\n",
        "data = pd.DataFrame({\n",
        "    'study_time': np.random.randint(1, 5, 8),\n",
        "    'parent_edu': np.random.randint(1, 5, 8),\n",
        "    'absences': np.random.randint(0, 10, 8),\n",
        "    'health': np.random.randint(1, 6, 8),\n",
        "    'final_score': np.random.randint(40, 100, 8)\n",
        "})\n",
        "\n",
        "X = data.drop('final_score', axis=1)\n",
        "y = data['final_score']\n",
        "\n",
        "model = LinearRegression().fit(X, y)\n",
        "\n",
        "baseline = y.mean()\n",
        "\n",
        "explainer = shap.Explainer(model, X)\n",
        "shap_values = explainer(X)\n",
        "\n",
        "preds = model.predict(X)\n",
        "\n",
        "check = np.isclose(preds, baseline + shap_values.values.sum(axis=1))\n",
        "\n",
        "result = data.copy()\n",
        "result['predicted'] = preds\n",
        "result['error'] = y - preds\n",
        "result['over/under'] = np.where(result['error'] > 0, 'Under', 'Over')\n",
        "\n",
        "print(\"Baseline (mean final score):\", baseline)\n",
        "print(\"\\nResults:\\n\", result)\n",
        "print(\"\\nAll predictions match baseline+SHAP? ->\", check.all())\n",
        "\n",
        "shap.summary_plot(shap_values, X)\n"
      ],
      "metadata": {
        "colab": {
          "base_uri": "https://localhost:8080/",
          "height": 787
        },
        "id": "PxrOeqJ3V0Ez",
        "outputId": "265b07d0-9818-4c05-9f94-513986afc8f6"
      },
      "execution_count": null,
      "outputs": [
        {
          "output_type": "stream",
          "name": "stdout",
          "text": [
            "Baseline (mean final score): 70.5\n",
            "\n",
            "Results:\n",
            "    study_time  parent_edu  absences  health  final_score  predicted  \\\n",
            "0           1           2         8       2           58  64.645726   \n",
            "1           4           4         1       1           75  60.629313   \n",
            "2           2           2         6       2           64  64.066344   \n",
            "3           1           3         7       5           89  82.310045   \n",
            "4           4           1         7       4           91  81.776155   \n",
            "5           4           4         8       1           69  74.989015   \n",
            "6           4           3         1       4           59  74.906429   \n",
            "7           4           1         5       1           59  60.676974   \n",
            "\n",
            "       error over/under  \n",
            "0  -6.645726       Over  \n",
            "1  14.370687      Under  \n",
            "2  -0.066344       Over  \n",
            "3   6.689955      Under  \n",
            "4   9.223845      Under  \n",
            "5  -5.989015       Over  \n",
            "6 -15.906429       Over  \n",
            "7  -1.676974       Over  \n",
            "\n",
            "All predictions match baseline+SHAP? -> True\n"
          ]
        },
        {
          "output_type": "stream",
          "name": "stderr",
          "text": [
            "/tmp/ipython-input-809217766.py:38: FutureWarning: The NumPy global RNG was seeded by calling `np.random.seed`. In a future version this function will no longer use the global RNG. Pass `rng` explicitly to opt-in to the new behaviour and silence this warning.\n",
            "  shap.summary_plot(shap_values, X)\n"
          ]
        },
        {
          "output_type": "display_data",
          "data": {
            "text/plain": [
              "<Figure size 800x310 with 2 Axes>"
            ],
            "image/png": "[encoded data removed]"
          },
          "metadata": {}
        }
      ]
    }
  ]
}